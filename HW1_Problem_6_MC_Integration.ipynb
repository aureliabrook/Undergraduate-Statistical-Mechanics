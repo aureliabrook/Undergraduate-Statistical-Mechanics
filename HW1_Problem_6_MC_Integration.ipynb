{
  "nbformat": 4,
  "nbformat_minor": 0,
  "metadata": {
    "colab": {
      "name": "HW1 Problem 6: MC Integration.ipynb",
      "provenance": []
    },
    "kernelspec": {
      "name": "python3",
      "display_name": "Python 3"
    }
  },
  "cells": [
    {
      "cell_type": "code",
      "metadata": {
        "id": "Wafk6FMPXlK_"
      },
      "source": [
        "#############PART A\n",
        "\n",
        "import numpy as np\n",
        "import matplotlib.pyplot as plt\n",
        "import random \n",
        "import math\n"
      ],
      "execution_count": null,
      "outputs": []
    },
    {
      "cell_type": "markdown",
      "metadata": {
        "id": "ZiN6FgHQXwvB"
      },
      "source": [
        "$F = \\int^{1}_{0} \\sqrt{1-x^{2}} dx$ \\\\\n",
        "Let $x = sin(u), dx = cos(u) du$ \\\\\n",
        "$F = \\int^{1}_{0} \\sqrt{1-sin^2(u)} cos(u) du$ \\\\\n",
        "$F = \\int^{1}_{0} \\sqrt{cos^2(u)} cos(u) du$ \\\\\n",
        "$F = \\int^{1}_{0} cos(u) cos(u) du$ \\\\\n",
        "$F = \\int^{1}_{0} cos^2(u) du$ \\\\\n",
        "$F = \\frac{cos(u)sin(u)}{2} + \\frac{u}{2} $ \\\\\n",
        "$F = \\frac{arcsin(x) + x\\sqrt{1-x^2}}{2}  $ \\\\\n",
        "$F = \\frac{\\pi}{4}$\n",
        "\n",
        "\n",
        "\n",
        "\n",
        "\n"
      ]
    },
    {
      "cell_type": "code",
      "metadata": {
        "id": "1FJQQLwVbQ3T"
      },
      "source": [
        "#############PART B\n",
        "\n",
        "def inCircle():\n",
        "  x = random.uniform(0,1)\n",
        "  y = random.uniform(0,1)\n",
        "  return y < math.sqrt(1-x**2)\n"
      ],
      "execution_count": null,
      "outputs": []
    },
    {
      "cell_type": "code",
      "metadata": {
        "id": "KHUaXwiPc0Nb"
      },
      "source": [
        "def areaCircle(N):\n",
        "  sum = 0\n",
        "  for i in range(N):\n",
        "    if inCircle():\n",
        "      sum+=1\n",
        "  return sum/N\n"
      ],
      "execution_count": null,
      "outputs": []
    },
    {
      "cell_type": "code",
      "metadata": {
        "colab": {
          "base_uri": "https://localhost:8080/",
          "height": 363
        },
        "id": "J7uXc9fQdNGP",
        "outputId": "bd8894c1-d9b9-4878-bfee-0622297fdb6d"
      },
      "source": [
        "############PART C\n",
        "\n",
        "\n",
        "error = []\n",
        "for n in [10, 100, 1000, 10000]:\n",
        "  curr = areaCircle(n)\n",
        "  error.append(math.pi/4 - curr)\n",
        "  print(\"Estimate of area of circle = \" + str(curr))\n",
        "\n",
        "plt.plot([10, 100, 1000, 10000], error, 'o')\n",
        "plt.title(\"Error in Calculating F\")\n",
        "plt.xlabel(\"Iterations\")\n",
        "plt.ylabel(\"Error\")\n",
        "plt.show()\n"
      ],
      "execution_count": null,
      "outputs": [
        {
          "output_type": "stream",
          "text": [
            "Estimate of area of circle = 0.9\n",
            "Estimate of area of circle = 0.82\n",
            "Estimate of area of circle = 0.804\n",
            "Estimate of area of circle = 0.7863\n"
          ],
          "name": "stdout"
        },
        {
          "output_type": "display_data",
          "data": {
            "image/png": "[encoded data removed]",
            "text/plain": [
              "<Figure size 432x288 with 1 Axes>"
            ]
          },
          "metadata": {
            "tags": [],
            "needs_background": "light"
          }
        }
      ]
    },
    {
      "cell_type": "code",
      "metadata": {
        "id": "rwRUu6HfdXFt"
      },
      "source": [
        ""
      ],
      "execution_count": null,
      "outputs": []
    }
  ]
}